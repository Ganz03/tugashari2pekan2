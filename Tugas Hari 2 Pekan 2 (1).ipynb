{
  "cells": [
    {
      "cell_type": "code",
      "execution_count": null,
      "metadata": {
        "colab": {
          "base_uri": "https://localhost:8080/",
          "height": 423
        },
        "id": "qt5hFjS-8sej",
        "outputId": "dc31d2f3-8c9c-4830-b169-05bd80ed4660"
      },
      "outputs": [
        {
          "data": {
            "text/html": [
              "<div>\n",
              "<style scoped>\n",
              "    .dataframe tbody tr th:only-of-type {\n",
              "        vertical-align: middle;\n",
              "    }\n",
              "\n",
              "    .dataframe tbody tr th {\n",
              "        vertical-align: top;\n",
              "    }\n",
              "\n",
              "    .dataframe thead th {\n",
              "        text-align: right;\n",
              "    }\n",
              "</style>\n",
              "<table border=\"1\" class=\"dataframe\">\n",
              "  <thead>\n",
              "    <tr style=\"text-align: right;\">\n",
              "      <th></th>\n",
              "      <th>gender</th>\n",
              "      <th>parental level of education</th>\n",
              "      <th>test preparation course</th>\n",
              "      <th>nilai</th>\n",
              "    </tr>\n",
              "  </thead>\n",
              "  <tbody>\n",
              "    <tr>\n",
              "      <th>0</th>\n",
              "      <td>male</td>\n",
              "      <td>some college</td>\n",
              "      <td>none</td>\n",
              "      <td>43</td>\n",
              "    </tr>\n",
              "    <tr>\n",
              "      <th>1</th>\n",
              "      <td>male</td>\n",
              "      <td>some high school</td>\n",
              "      <td>completed</td>\n",
              "      <td>77</td>\n",
              "    </tr>\n",
              "    <tr>\n",
              "      <th>2</th>\n",
              "      <td>male</td>\n",
              "      <td>some college</td>\n",
              "      <td>completed</td>\n",
              "      <td>83</td>\n",
              "    </tr>\n",
              "    <tr>\n",
              "      <th>3</th>\n",
              "      <td>male</td>\n",
              "      <td>bachelor degree</td>\n",
              "      <td>completed</td>\n",
              "      <td>83</td>\n",
              "    </tr>\n",
              "    <tr>\n",
              "      <th>4</th>\n",
              "      <td>female</td>\n",
              "      <td>bachelor degree</td>\n",
              "      <td>none</td>\n",
              "      <td>73</td>\n",
              "    </tr>\n",
              "    <tr>\n",
              "      <th>...</th>\n",
              "      <td>...</td>\n",
              "      <td>...</td>\n",
              "      <td>...</td>\n",
              "      <td>...</td>\n",
              "    </tr>\n",
              "    <tr>\n",
              "      <th>95</th>\n",
              "      <td>male</td>\n",
              "      <td>high school</td>\n",
              "      <td>none</td>\n",
              "      <td>30</td>\n",
              "    </tr>\n",
              "    <tr>\n",
              "      <th>96</th>\n",
              "      <td>female</td>\n",
              "      <td>high school</td>\n",
              "      <td>none</td>\n",
              "      <td>62</td>\n",
              "    </tr>\n",
              "    <tr>\n",
              "      <th>97</th>\n",
              "      <td>male</td>\n",
              "      <td>high school</td>\n",
              "      <td>none</td>\n",
              "      <td>71</td>\n",
              "    </tr>\n",
              "    <tr>\n",
              "      <th>98</th>\n",
              "      <td>male</td>\n",
              "      <td>associate degree</td>\n",
              "      <td>none</td>\n",
              "      <td>66</td>\n",
              "    </tr>\n",
              "    <tr>\n",
              "      <th>99</th>\n",
              "      <td>male</td>\n",
              "      <td>some college</td>\n",
              "      <td>completed</td>\n",
              "      <td>85</td>\n",
              "    </tr>\n",
              "  </tbody>\n",
              "</table>\n",
              "<p>100 rows × 4 columns</p>\n",
              "</div>"
            ],
            "text/plain": [
              "    gender parental level of education test preparation course  nilai\n",
              "0     male                some college                    none     43\n",
              "1     male            some high school               completed     77\n",
              "2     male                some college               completed     83\n",
              "3     male             bachelor degree               completed     83\n",
              "4   female             bachelor degree                    none     73\n",
              "..     ...                         ...                     ...    ...\n",
              "95    male                 high school                    none     30\n",
              "96  female                 high school                    none     62\n",
              "97    male                 high school                    none     71\n",
              "98    male            associate degree                    none     66\n",
              "99    male                some college               completed     85\n",
              "\n",
              "[100 rows x 4 columns]"
            ]
          },
          "execution_count": 23,
          "metadata": {},
          "output_type": "execute_result"
        }
      ],
      "source": [
        "#data preparation\n",
        "import pandas as pd\n",
        "\n",
        "df = pd.read_csv('Students Performance.csv')\n",
        "\n",
        "df"
      ]
    },
    {
      "cell_type": "markdown",
      "metadata": {
        "id": "IQBqZzEmOvYG"
      },
      "source": [
        "\n",
        "\n",
        "---\n",
        "\n",
        "\n",
        "\n",
        "---\n",
        "\n"
      ]
    },
    {
      "cell_type": "markdown",
      "metadata": {
        "id": "aNoScqypBGr5"
      },
      "source": [
        "<h2>Soal 1: Indexing</h2>\n",
        "\n",
        "1. Lakukan indexing terhadap dataframe untuk mengakses column 'gender' dan 'parental level of education' saja\n",
        "2. Lakukan indexing terhadap dataframe untuk mengakses row 10 sampai 20 beserta column 'test preparation course' dan 'nilai'"
      ]
    },
    {
      "cell_type": "code",
      "execution_count": 4,
      "metadata": {
        "id": "p1u_riDtIthb"
      },
      "outputs": [
        {
          "ename": "ModuleNotFoundError",
          "evalue": "No module named 'pandas'",
          "output_type": "error",
          "traceback": [
            "\u001b[1;31m---------------------------------------------------------------------------\u001b[0m",
            "\u001b[1;31mModuleNotFoundError\u001b[0m                       Traceback (most recent call last)",
            "Cell \u001b[1;32mIn[4], line 1\u001b[0m\n\u001b[1;32m----> 1\u001b[0m \u001b[39mimport\u001b[39;00m \u001b[39mpandas\u001b[39;00m \u001b[39mas\u001b[39;00m \u001b[39mpd\u001b[39;00m\n\u001b[0;32m      3\u001b[0m df \u001b[39m=\u001b[39m pd\u001b[39m.\u001b[39mread_csv(\u001b[39m'\u001b[39m\u001b[39mStudents Performance.csv\u001b[39m\u001b[39m'\u001b[39m)\n\u001b[0;32m      5\u001b[0m kolom_tertentu \u001b[39m=\u001b[39m df[[\u001b[39m'\u001b[39m\u001b[39mgender\u001b[39m\u001b[39m'\u001b[39m, \u001b[39m'\u001b[39m\u001b[39mparental_level_of_education\u001b[39m\u001b[39m'\u001b[39m]]\n",
            "\u001b[1;31mModuleNotFoundError\u001b[0m: No module named 'pandas'"
          ]
        }
      ],
      "source": [
        "\n",
        "import pandas as pd\n",
        "\n",
        "df = pd.read_csv('Students Performance.csv')\n",
        "\n",
        "kolom_tertentu = df[['gender', 'parental_level_of_education']]\n",
        "baris_dan_kolom = df.loc[10:20, ['test_preparation_course', 'nilai']]"
      ]
    },
    {
      "cell_type": "markdown",
      "metadata": {
        "id": "57h66nFwJ6Kn"
      },
      "source": [
        "Expected output :\n",
        "\n",
        "poin a:\n",
        "\n",
        "![alt text](https://drive.google.com/uc?id=10IktjvsNtqzhq7H7vrP7wvQTVx5EWJjA)\n",
        "\n",
        "\n",
        "poin b:\n",
        "\n",
        "![alt text](https://drive.google.com/uc?id=1Dc2OdbTATwZRsPC24rSH3citYmfyrVHv)"
      ]
    },
    {
      "cell_type": "markdown",
      "metadata": {
        "id": "Kxwr0vGIO_bE"
      },
      "source": [
        "\n",
        "\n",
        "---\n",
        "\n",
        "\n",
        "\n",
        "---\n",
        "\n"
      ]
    },
    {
      "cell_type": "markdown",
      "metadata": {
        "id": "F55zUl5GBGr_"
      },
      "source": [
        "<h2>Soal 2: Filter DataFrame Dengan Boolean</h2>\n",
        "\n",
        "1. Tampilkan semua data siswa yang level pendidikan orang tuanya 'high school' dan 'bachelor degree'\n",
        "2. Tampilkan semua data siswa yang mempunyai nilai lebih dari 50 dengan test preparation course 'completed'\n",
        "3. Tampilkan semua data siswa yang mempunyai nilai lebih dari 70, berjenis kelamin perempuan dengan test preparation course 'completed'"
      ]
    },
    {
      "cell_type": "code",
      "execution_count": 7,
      "metadata": {
        "id": "gpSzH5s6N3mb"
      },
      "outputs": [
        {
          "ename": "ModuleNotFoundError",
          "evalue": "No module named 'pandas'",
          "output_type": "error",
          "traceback": [
            "\u001b[1;31m---------------------------------------------------------------------------\u001b[0m",
            "\u001b[1;31mModuleNotFoundError\u001b[0m                       Traceback (most recent call last)",
            "Cell \u001b[1;32mIn[7], line 2\u001b[0m\n\u001b[0;32m      1\u001b[0m \u001b[39m#code here\u001b[39;00m\n\u001b[1;32m----> 2\u001b[0m \u001b[39mimport\u001b[39;00m \u001b[39mpandas\u001b[39;00m \u001b[39mas\u001b[39;00m \u001b[39mpd\u001b[39;00m\n\u001b[0;32m      3\u001b[0m df \u001b[39m=\u001b[39m pd\u001b[39m.\u001b[39mread_csv(\u001b[39m'\u001b[39m\u001b[39mStudents Performance.csv\u001b[39m\u001b[39m'\u001b[39m)\n\u001b[0;32m      4\u001b[0m level_pendidikan \u001b[39m=\u001b[39m df[df[\u001b[39m'\u001b[39m\u001b[39mparental_level_of_education\u001b[39m\u001b[39m'\u001b[39m]\u001b[39m.\u001b[39misin([\u001b[39m'\u001b[39m\u001b[39mHigh School\u001b[39m\u001b[39m'\u001b[39m, \u001b[39m'\u001b[39m\u001b[39mBachelor\u001b[39m\u001b[39m'\u001b[39m])]\n",
            "\u001b[1;31mModuleNotFoundError\u001b[0m: No module named 'pandas'"
          ]
        }
      ],
      "source": [
        "#code here\n",
        "import pandas as pd\n",
        "df = pd.read_csv('Students Performance.csv')\n",
        "level_pendidikan = df[df['parental_level_of_education'].isin(['High School', 'Bachelor'])]\n",
        "nilai_dan_course = df[(df['nilai'] > 50) & (df['test_preparation_course'] == 'Completed')]\n",
        "nilai_gender_course = df[(df['nilai'] > 70) & (df['gender'] == 'Female') & (df['test_preparation_course'] == 'Completed')]"
      ]
    },
    {
      "cell_type": "markdown",
      "metadata": {
        "id": "LlAif9svN5G0"
      },
      "source": [
        "Expected output: \n",
        "\n",
        "poin a:(tampilan hanya sebagian)\n",
        "\n",
        "![alt text](https://drive.google.com/uc?id=1UiNs119fMKgPVa1SiIZxojC5iOkW2Ub1)\n",
        "\n",
        "\n",
        "poin b: (tampilan hanya sebagian)\n",
        "\n",
        "![alt text](https://drive.google.com/uc?id=13fc9IaUbwfzLiNgX6jEoLLuUjYli_YJq)\n",
        "\n",
        "poin c:\n",
        "\n",
        "![alt text](https://drive.google.com/uc?id=1SYby1GosYEyMQ26KdGOzvL48cKXpikp1)\n"
      ]
    },
    {
      "cell_type": "markdown",
      "metadata": {
        "id": "B3PIumZlPEjn"
      },
      "source": [
        "\n",
        "\n",
        "---\n",
        "\n",
        "\n",
        "\n",
        "---\n",
        "\n"
      ]
    },
    {
      "cell_type": "markdown",
      "metadata": {
        "id": "6Od6R3H1BGsE"
      },
      "source": [
        "<h2>Soal 3: Data Transformation</h2>\n",
        "\n",
        "lakukan data transformasi terhadap column 'nilai' dengan fungsi transformasi, berikut rumus dari normalisasi\n",
        "\n",
        "![alt text](https://drive.google.com/uc?id=1wed-EbRSTA0JP1ceDp6lcKBqH2yJ4aa3)"
      ]
    },
    {
      "cell_type": "code",
      "execution_count": 9,
      "metadata": {
        "id": "RNnFVJ-AOoh1"
      },
      "outputs": [
        {
          "ename": "ModuleNotFoundError",
          "evalue": "No module named 'pandas'",
          "output_type": "error",
          "traceback": [
            "\u001b[1;31m---------------------------------------------------------------------------\u001b[0m",
            "\u001b[1;31mModuleNotFoundError\u001b[0m                       Traceback (most recent call last)",
            "Cell \u001b[1;32mIn[9], line 2\u001b[0m\n\u001b[0;32m      1\u001b[0m \u001b[39m#code here\u001b[39;00m\n\u001b[1;32m----> 2\u001b[0m \u001b[39mimport\u001b[39;00m \u001b[39mpandas\u001b[39;00m \u001b[39mas\u001b[39;00m \u001b[39mpd\u001b[39;00m\n\u001b[0;32m      4\u001b[0m df \u001b[39m=\u001b[39m pd\u001b[39m.\u001b[39mread_csv(\u001b[39m'\u001b[39m\u001b[39mStudents Performance.csv\u001b[39m\u001b[39m'\u001b[39m)\n\u001b[0;32m      5\u001b[0m nilai_min \u001b[39m=\u001b[39m df[\u001b[39m'\u001b[39m\u001b[39mnilai\u001b[39m\u001b[39m'\u001b[39m]\u001b[39m.\u001b[39mmin()\n",
            "\u001b[1;31mModuleNotFoundError\u001b[0m: No module named 'pandas'"
          ]
        }
      ],
      "source": [
        "#code here\n",
        "import pandas as pd\n",
        "\n",
        "df = pd.read_csv('Students Performance.csv')\n",
        "nilai_min = df['nilai'].min()\n",
        "nilai_max = df['nilai'].max()\n",
        "df['nilai_normalisasi'] = (df['nilai'] - nilai_min) / (nilai_max - nilai_min)\n",
        "\n",
        "print(\"Dataframe setelah normalisasi kolom 'nilai':\")\n",
        "print(df)"
      ]
    },
    {
      "cell_type": "markdown",
      "metadata": {
        "id": "6FYWaSjKPGeT"
      },
      "source": [
        "\n",
        "\n",
        "---\n",
        "\n",
        "\n",
        "\n",
        "---\n",
        "\n"
      ]
    }
  ],
  "metadata": {
    "colab": {
      "collapsed_sections": [],
      "name": "Tugas Hari 2 Pekan 2.ipynb",
      "provenance": []
    },
    "kernelspec": {
      "display_name": "Python 3",
      "language": "python",
      "name": "python3"
    },
    "language_info": {
      "codemirror_mode": {
        "name": "ipython",
        "version": 3
      },
      "file_extension": ".py",
      "mimetype": "text/x-python",
      "name": "python",
      "nbconvert_exporter": "python",
      "pygments_lexer": "ipython3",
      "version": "3.10.6"
    }
  },
  "nbformat": 4,
  "nbformat_minor": 0
}
